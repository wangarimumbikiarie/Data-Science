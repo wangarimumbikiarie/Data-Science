{
 "cells": [
  {
   "cell_type": "markdown",
   "id": "b6647c80-7292-4434-9e44-dc6dc1bcbe5c",
   "metadata": {},
   "source": [
    "# Data Science Tools and Ecosystem"
   ]
  },
  {
   "cell_type": "markdown",
   "id": "af9874ac-0c6d-4267-93dc-a67e3c6a876b",
   "metadata": {},
   "source": [
    "Some of the popular languages that Data Scientists use are:\n",
    "1. Python\n",
    "2. R\n",
    "3. SQL\n",
    "4. Java\n",
    "5. C++\n",
    "6. Scala\n",
    "   "
   ]
  },
  {
   "cell_type": "markdown",
   "id": "a0ef0806-206b-4328-9e89-de5d25c065ac",
   "metadata": {},
   "source": [
    "**Objectives**:\n",
    "- Types of Libraries\n",
    "- Common Data Science Tools\n",
    "- Common expressions in Python"
   ]
  },
  {
   "cell_type": "markdown",
   "id": "b241b020-45ac-4c27-8941-a5ac1efb893a",
   "metadata": {},
   "source": [
    "In this notebook, Data Science Tools and Ecosystem are summarized"
   ]
  },
  {
   "cell_type": "markdown",
   "id": "f9a7870e-8f5c-44d4-a01f-f91c27d3a6f7",
   "metadata": {},
   "source": [
    "Some of the commonly used libraries used by Data Scientists include:\n",
    "1. ggplot\n",
    "2. pandas\n",
    "3. numpy\n",
    "4. seaborn"
   ]
  },
  {
   "cell_type": "markdown",
   "id": "38bdfaa9-7659-49f9-a9f8-e7a417acb5d2",
   "metadata": {},
   "source": [
    "| Data Science Tools       |\n",
    "|--------------------------|\n",
    "| Jupyter Notebook         |\n",
    "| RStudio                  |\n",
    "| Apache Zeppelin          |"
   ]
  },
  {
   "cell_type": "markdown",
   "id": "c0c6c28e-e39d-4e6c-b1fa-8047df66e6c6",
   "metadata": {},
   "source": [
    "### Below are a few examples of evaulating arithmetic expressions in Python\n"
   ]
  },
  {
   "cell_type": "code",
   "execution_count": 18,
   "id": "6ebc182f-cbff-46d0-86ce-4a9ff46fe3fb",
   "metadata": {},
   "outputs": [
    {
     "data": {
      "text/plain": [
       "17"
      ]
     },
     "execution_count": 18,
     "metadata": {},
     "output_type": "execute_result"
    }
   ],
   "source": [
    "# This a simple arithmetic expression to mutiply then add integers.\n",
    "\n",
    "(3*4)+5\n"
   ]
  },
  {
   "cell_type": "code",
   "execution_count": 20,
   "id": "0ade13e6-515b-4186-899b-cb3fc8c21eaf",
   "metadata": {},
   "outputs": [
    {
     "name": "stdout",
     "output_type": "stream",
     "text": [
      "3.3333333333333335\n"
     ]
    }
   ],
   "source": [
    "#this will convert 200 minutes to hours by dividing by 60\n",
    "minutes = 200\n",
    "hours = minutes/ 60\n",
    "print(hours)"
   ]
  },
  {
   "cell_type": "markdown",
   "id": "426b7a40-4f24-4fdc-a01a-25d24ad6687d",
   "metadata": {},
   "source": [
    "## Author: Wangari\n"
   ]
  },
  {
   "cell_type": "code",
   "execution_count": null,
   "id": "867d6282-4711-4244-aa29-872f35823187",
   "metadata": {},
   "outputs": [],
   "source": []
  }
 ],
 "metadata": {
  "kernelspec": {
   "display_name": "Python [conda env:base] *",
   "language": "python",
   "name": "conda-base-py"
  },
  "language_info": {
   "codemirror_mode": {
    "name": "ipython",
    "version": 3
   },
   "file_extension": ".py",
   "mimetype": "text/x-python",
   "name": "python",
   "nbconvert_exporter": "python",
   "pygments_lexer": "ipython3",
   "version": "3.12.7"
  }
 },
 "nbformat": 4,
 "nbformat_minor": 5
}
